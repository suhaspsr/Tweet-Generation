{
 "cells": [
  {
   "cell_type": "markdown",
   "metadata": {
    "colab_type": "text",
    "id": "0hBgunS5bQ7E"
   },
   "source": [
    "Tweet Generation"
   ]
  },
  {
   "cell_type": "code",
   "execution_count": 0,
   "metadata": {
    "colab": {
     "autoexec": {
      "startup": false,
      "wait_interval": 0
     }
    },
    "colab_type": "code",
    "collapsed": true,
    "id": "X_FO1S0EbQ7K"
   },
   "outputs": [],
   "source": [
    "import pandas as pd\n",
    "import numpy as np\n",
    "import tensorflow as tf\n",
    "import time\n",
    "import re\n",
    "import operator\n",
    "import matplotlib.pyplot as plt \n",
    "from sklearn.decomposition import PCA\n",
    "from sklearn.cluster import KMeans\n",
    "from sklearn.manifold import TSNE\n",
    "from operator import itemgetter"
   ]
  },
  {
   "cell_type": "code",
   "execution_count": 4,
   "metadata": {
    "colab": {
     "autoexec": {
      "startup": false,
      "wait_interval": 0
     },
     "base_uri": "https://localhost:8080/",
     "height": 34
    },
    "colab_type": "code",
    "executionInfo": {
     "elapsed": 1103,
     "status": "ok",
     "timestamp": 1523831430303,
     "user": {
      "displayName": "Suhas Pavagada Shekhar",
      "photoUrl": "https://lh3.googleusercontent.com/a/default-user=s128",
      "userId": "103785077841256451052"
     },
     "user_tz": 240
    },
    "id": "sjtH0R48bQ7U",
    "outputId": "6fe3fa1f-aada-49c9-b7c3-33f6fbf545cb"
   },
   "outputs": [
    {
     "name": "stdout",
     "output_type": "stream",
     "text": [
      "/content/drive\n"
     ]
    }
   ],
   "source": [
    "cd drive"
   ]
  },
  {
   "cell_type": "code",
   "execution_count": 5,
   "metadata": {
    "colab": {
     "autoexec": {
      "startup": false,
      "wait_interval": 0
     },
     "base_uri": "https://localhost:8080/",
     "height": 34
    },
    "colab_type": "code",
    "executionInfo": {
     "elapsed": 250,
     "status": "ok",
     "timestamp": 1523831442391,
     "user": {
      "displayName": "Suhas Pavagada Shekhar",
      "photoUrl": "https://lh3.googleusercontent.com/a/default-user=s128",
      "userId": "103785077841256451052"
     },
     "user_tz": 240
    },
    "id": "kr_h6A_KbmdH",
    "outputId": "852b213e-4775-404d-982a-b25e2e3ffe3f"
   },
   "outputs": [
    {
     "name": "stdout",
     "output_type": "stream",
     "text": [
      "/content/drive/Tweet-Like-Trump-master\n"
     ]
    }
   ],
   "source": [
    "cd Tweet-Like-Trump-master/"
   ]
  },
  {
   "cell_type": "code",
   "execution_count": 6,
   "metadata": {
    "colab": {
     "autoexec": {
      "startup": false,
      "wait_interval": 0
     },
     "base_uri": "https://localhost:8080/",
     "height": 204
    },
    "colab_type": "code",
    "executionInfo": {
     "elapsed": 5185,
     "status": "ok",
     "timestamp": 1523831452679,
     "user": {
      "displayName": "Suhas Pavagada Shekhar",
      "photoUrl": "https://lh3.googleusercontent.com/a/default-user=s128",
      "userId": "103785077841256451052"
     },
     "user_tz": 240
    },
    "id": "T4iGwvq9bQ7d",
    "outputId": "338c8731-4be7-4999-f52b-3bbad440c116"
   },
   "outputs": [
    {
     "data": {
      "text/html": [
       "<div>\n",
       "<style scoped>\n",
       "    .dataframe tbody tr th:only-of-type {\n",
       "        vertical-align: middle;\n",
       "    }\n",
       "\n",
       "    .dataframe tbody tr th {\n",
       "        vertical-align: top;\n",
       "    }\n",
       "\n",
       "    .dataframe thead th {\n",
       "        text-align: right;\n",
       "    }\n",
       "</style>\n",
       "<table border=\"1\" class=\"dataframe\">\n",
       "  <thead>\n",
       "    <tr style=\"text-align: right;\">\n",
       "      <th></th>\n",
       "      <th>Tweet</th>\n",
       "      <th>Date and Time</th>\n",
       "      <th>Tweet Id</th>\n",
       "    </tr>\n",
       "  </thead>\n",
       "  <tbody>\n",
       "    <tr>\n",
       "      <th>0</th>\n",
       "      <td>Five of our incredible @Cabinet Secretaries ar...</td>\n",
       "      <td>3/14/2018 13:54</td>\n",
       "      <td>9.740000e+17</td>\n",
       "    </tr>\n",
       "    <tr>\n",
       "      <th>1</th>\n",
       "      <td>Perhaps at no time in history have the busines...</td>\n",
       "      <td>3/14/2018 13:12</td>\n",
       "      <td>9.740000e+17</td>\n",
       "    </tr>\n",
       "    <tr>\n",
       "      <th>2</th>\n",
       "      <td>Hundreds of good people including very importa...</td>\n",
       "      <td>3/14/2018 13:02</td>\n",
       "      <td>9.740000e+17</td>\n",
       "    </tr>\n",
       "    <tr>\n",
       "      <th>3</th>\n",
       "      <td>All across this nation we pray for our country...</td>\n",
       "      <td>3/14/2018 0:34</td>\n",
       "      <td>9.740000e+17</td>\n",
       "    </tr>\n",
       "    <tr>\n",
       "      <th>4</th>\n",
       "      <td>It was my great honor to deliver a message at ...</td>\n",
       "      <td>3/14/2018 0:25</td>\n",
       "      <td>9.740000e+17</td>\n",
       "    </tr>\n",
       "  </tbody>\n",
       "</table>\n",
       "</div>"
      ],
      "text/plain": [
       "                                               Tweet    Date and Time  \\\n",
       "0  Five of our incredible @Cabinet Secretaries ar...  3/14/2018 13:54   \n",
       "1  Perhaps at no time in history have the busines...  3/14/2018 13:12   \n",
       "2  Hundreds of good people including very importa...  3/14/2018 13:02   \n",
       "3  All across this nation we pray for our country...   3/14/2018 0:34   \n",
       "4  It was my great honor to deliver a message at ...   3/14/2018 0:25   \n",
       "\n",
       "       Tweet Id  \n",
       "0  9.740000e+17  \n",
       "1  9.740000e+17  \n",
       "2  9.740000e+17  \n",
       "3  9.740000e+17  \n",
       "4  9.740000e+17  "
      ]
     },
     "execution_count": 6,
     "metadata": {
      "tags": []
     },
     "output_type": "execute_result"
    }
   ],
   "source": [
    "import pandas as pd\n",
    "\n",
    "data = pd.read_csv(r\"Trump_tweets.csv\")\n",
    "data.head()"
   ]
  },
  {
   "cell_type": "markdown",
   "metadata": {
    "colab_type": "text",
    "id": "Ft3VrRdHbQ7j"
   },
   "source": [
    "## Inspect the data"
   ]
  },
  {
   "cell_type": "code",
   "execution_count": 7,
   "metadata": {
    "colab": {
     "autoexec": {
      "startup": false,
      "wait_interval": 0
     },
     "base_uri": "https://localhost:8080/",
     "height": 34
    },
    "colab_type": "code",
    "executionInfo": {
     "elapsed": 328,
     "status": "ok",
     "timestamp": 1523831459248,
     "user": {
      "displayName": "Suhas Pavagada Shekhar",
      "photoUrl": "https://lh3.googleusercontent.com/a/default-user=s128",
      "userId": "103785077841256451052"
     },
     "user_tz": 240
    },
    "id": "mk9_4--4bQ7l",
    "outputId": "6324a5a7-f39b-4643-cd2e-c055da5e86de"
   },
   "outputs": [
    {
     "data": {
      "text/plain": [
       "(30388, 3)"
      ]
     },
     "execution_count": 7,
     "metadata": {
      "tags": []
     },
     "output_type": "execute_result"
    }
   ],
   "source": [
    "data.shape"
   ]
  },
  {
   "cell_type": "code",
   "execution_count": 0,
   "metadata": {
    "colab": {
     "autoexec": {
      "startup": false,
      "wait_interval": 0
     }
    },
    "colab_type": "code",
    "collapsed": true,
    "id": "w0xh42ARbQ7p"
   },
   "outputs": [],
   "source": [
    "# Create a variable for the tweets\n",
    "tweets = data.Tweet.loc[0:10000]\n"
   ]
  },
  {
   "cell_type": "code",
   "execution_count": 9,
   "metadata": {
    "colab": {
     "autoexec": {
      "startup": false,
      "wait_interval": 0
     },
     "base_uri": "https://localhost:8080/",
     "height": 377
    },
    "colab_type": "code",
    "executionInfo": {
     "elapsed": 287,
     "status": "ok",
     "timestamp": 1523831461811,
     "user": {
      "displayName": "Suhas Pavagada Shekhar",
      "photoUrl": "https://lh3.googleusercontent.com/a/default-user=s128",
      "userId": "103785077841256451052"
     },
     "user_tz": 240
    },
    "id": "sMOOVa6bbQ7u",
    "outputId": "31c4ad88-2ae6-430e-d83f-1e526509137e"
   },
   "outputs": [
    {
     "name": "stdout",
     "output_type": "stream",
     "text": [
      "Five of our incredible @Cabinet Secretaries are testifying on the Hill this morning on the need to rebuild our Nation’s crumbling infrastructure. We need to build FAST &amp; we need to build for our FUTURE. Thank you @SenateCommerce for hosting this hearing! #InfrastructureInAmerica\n",
      "\n",
      "Perhaps at no time in history have the business fundamentals of U.S. companies been better than they are today!\n",
      "\n",
      "Hundreds of good people including very important Ambassadors and Judges are being blocked and/or slow walked by the Democrats in the Senate. Many important positions in Government are unfilled because of this obstruction. Worst in U.S. history!\n",
      "\n",
      "All across this nation we pray for our country and we THANK GOD for our United States Marines! Thank you. God Bless You. And God Bless America! https://t.co/vKXBd0CGH1\n",
      "\n",
      "It was my great honor to deliver a message at the Marine Corps Air Station Miramar to our GREAT U.S. Military straight from the heart of the American People: We support you we thank you we love you - and we will always have your back! https://t.co/oCt1nH3DON\n",
      "\n",
      "It was my great honor to deliver a message at the Marine Core Air Station Miramar to our GREAT U.S. Military straight from the heart of the American People: We support you we thank you we love you - and we will always have your back! https://t.co/NEGCR6rM7Y\n",
      "\n",
      "If we don’t have a wall system we’re not going to have a country. Congress must fund the BORDER WALL &amp; prohibit grants to sanctuary jurisdictions that threaten the security of our country &amp; the people of our country. We must enforce our laws &amp; protect our people! #BuildTheWall https://t.co/NGqNueukvj\n",
      "\n",
      "California’s sanctuary policies are illegal and unconstitutional and put the safety and security of our entire nation at risk. Thousands of dangerous &amp; violent criminal aliens are released as a result of sanctuary policies set free to prey on innocent Americans. THIS MUST STOP!\n",
      "\n",
      "“According to the Center for Immigration Studies the $18 billion wall will pay for itself by curbing the importation of crime drugs and illegal immigrants who tend to go on the federal dole...” https://t.co/NdLC6jZwWE\n",
      "\n",
      "Heading to see the BORDER WALL prototypes in California! https://t.co/fU6Ukc271l\n",
      "\n"
     ]
    }
   ],
   "source": [
    "# Inspect some of the tweets\n",
    "x = 0\n",
    "for i in range(x,x+10):\n",
    "    print(tweets[i])\n",
    "    print()"
   ]
  },
  {
   "cell_type": "markdown",
   "metadata": {
    "colab_type": "text",
    "id": "DjrTxrCzbQ7y"
   },
   "source": [
    "# Prepare the Input Data"
   ]
  },
  {
   "cell_type": "code",
   "execution_count": 0,
   "metadata": {
    "colab": {
     "autoexec": {
      "startup": false,
      "wait_interval": 0
     }
    },
    "colab_type": "code",
    "collapsed": true,
    "id": "RoNT4HwWbQ71"
   },
   "outputs": [],
   "source": [
    "def clean_tweet(tweet):\n",
    "    '''Remove unwanted characters and format the text to create fewer nulls word embeddings'''\n",
    "#     tweet = tweet.lower()\n",
    "#     tweet = re.sub(r'https?:\\/\\/.*[\\r\\n]*', '', tweet, flags=re.MULTILINE)\n",
    "    tweet = re.sub(r'[_\"\\-;%()|.,+&=*%]', '', tweet)\n",
    "    tweet = re.sub(r'\\.', ' . ', tweet)\n",
    "    tweet = re.sub(r'\\!', ' !', tweet)\n",
    "    tweet = re.sub(r'\\?', ' ?', tweet)\n",
    "    tweet = re.sub(r'\\,', ' ,', tweet)\n",
    "    tweet = re.sub(r':', ' : ', tweet)\n",
    "    tweet = re.sub(r'#', ' # ', tweet)\n",
    "    tweet = re.sub(r'@', ' @ ', tweet)\n",
    "    tweet = re.sub(r'd .c .', 'd.c.', tweet)\n",
    "    tweet = re.sub(r'u .s .', 'd.c.', tweet)\n",
    "    tweet = re.sub(r' amp ', ' and ', tweet)\n",
    "    tweet = re.sub(r'pm', ' pm ', tweet)\n",
    "    tweet = re.sub(r'news', ' news ', tweet)\n",
    "    tweet = re.sub(r' . . . ', ' ', tweet)\n",
    "    tweet = re.sub(r' .  .  . ', ' ', tweet)\n",
    "    tweet = re.sub(r' ! ! ', ' ! ', tweet)\n",
    "    tweet = re.sub(r'&amp', 'and', tweet)\n",
    "    return tweet"
   ]
  },
  {
   "cell_type": "code",
   "execution_count": 0,
   "metadata": {
    "colab": {
     "autoexec": {
      "startup": false,
      "wait_interval": 0
     }
    },
    "colab_type": "code",
    "collapsed": true,
    "id": "N47Q00BGbQ74"
   },
   "outputs": [],
   "source": [
    "clean_tweets = []\n",
    "for tweet in tweets:\n",
    "    tweet = clean_tweet(tweet)\n",
    "    if len(tweet) > 0:\n",
    "        clean_tweets.append(tweet)\n"
   ]
  },
  {
   "cell_type": "code",
   "execution_count": 12,
   "metadata": {
    "colab": {
     "autoexec": {
      "startup": false,
      "wait_interval": 0
     },
     "base_uri": "https://localhost:8080/",
     "height": 377
    },
    "colab_type": "code",
    "executionInfo": {
     "elapsed": 317,
     "status": "ok",
     "timestamp": 1523831467202,
     "user": {
      "displayName": "Suhas Pavagada Shekhar",
      "photoUrl": "https://lh3.googleusercontent.com/a/default-user=s128",
      "userId": "103785077841256451052"
     },
     "user_tz": 240
    },
    "id": "VUWIDs44bQ76",
    "outputId": "791d5181-e1cd-47e2-a051-37c71374ce04"
   },
   "outputs": [
    {
     "name": "stdout",
     "output_type": "stream",
     "text": [
      "Five of our incredible  @ Cabinet Secretaries are testifying on the Hill this morning on the need to rebuild our Nation’s crumbling infrastructure We need to build FAST and we need to build for our FUTURE Thank you  @ SenateCommerce for hosting this hearing !  # InfrastructureInAmerica\n",
      "\n",
      "Perhaps at no time in history have the business fundamentals of US companies been better than they are today !\n",
      "\n",
      "Hundreds of good people including very important Ambassadors and Judges are being blocked and/or slow walked by the Democrats in the Senate Many important positions in Government are unfilled because of this obstruction Worst in US history !\n",
      "\n",
      "All across this nation we pray for our country and we THANK GOD for our United States Marines ! Thank you God Bless You And God Bless America ! https : //tco/vKXBd0CGH1\n",
      "\n",
      "It was my great honor to deliver a message at the Marine Corps Air Station Miramar to our GREAT US Military straight from the heart of the American People :  We support you we thank you we love you  and we will always have your back ! https : //tco/oCt1nH3DON\n",
      "\n",
      "It was my great honor to deliver a message at the Marine Core Air Station Miramar to our GREAT US Military straight from the heart of the American People :  We support you we thank you we love you  and we will always have your back ! https : //tco/NEGCR6rM7Y\n",
      "\n",
      "If we don’t have a wall system we’re not going to have a country Congress must fund the BORDER WALL and prohibit grants to sanctuary jurisdictions that threaten the security of our country and the people of our country We must enforce our laws and protect our people !  # BuildTheWall https : //tco/NGqNueukvj\n",
      "\n",
      "California’s sanctuary policies are illegal and unconstitutional and put the safety and security of our entire nation at risk Thousands of dangerous and violent criminal aliens are released as a result of sanctuary policies set free to prey on innocent Americans THIS MUST STOP !\n",
      "\n",
      "“According to the Center for Immigration Studies the $18 billion wall will pay for itself by curbing the importation of crime drugs and illegal immigrants who tend to go on the federal dole” https : //tco/NdLC6jZwWE\n",
      "\n",
      "Heading to see the BORDER WALL prototypes in California ! https : //tco/fU6Ukc271l\n",
      "\n"
     ]
    }
   ],
   "source": [
    "x = 0\n",
    "for i in range(x,x+10):\n",
    "    print(clean_tweets[i])  \n",
    "    print()"
   ]
  },
  {
   "cell_type": "code",
   "execution_count": 13,
   "metadata": {
    "colab": {
     "autoexec": {
      "startup": false,
      "wait_interval": 0
     },
     "base_uri": "https://localhost:8080/",
     "height": 102
    },
    "colab_type": "code",
    "executionInfo": {
     "elapsed": 126062,
     "status": "ok",
     "timestamp": 1523831593999,
     "user": {
      "displayName": "Suhas Pavagada Shekhar",
      "photoUrl": "https://lh3.googleusercontent.com/a/default-user=s128",
      "userId": "103785077841256451052"
     },
     "user_tz": 240
    },
    "id": "aNFgZwBTbQ7-",
    "outputId": "02a6fe89-35e5-4745-f55e-ca97e3c2e1c1"
   },
   "outputs": [
    {
     "name": "stdout",
     "output_type": "stream",
     "text": [
      "Size of Vocabulary: 22931\n",
      "Word embeddings: 1193514\n",
      "Total Number of Embeddings: 215469\n",
      "Number of Null Embeddings: 67459\n",
      "% of Embeddings that are Null: 31.31%\n"
     ]
    }
   ],
   "source": [
    "# Count the total number of occurences of each word\n",
    "word_counts = {}\n",
    "for tweet in clean_tweets:\n",
    "    for word in tweet.split():\n",
    "        if word not in word_counts:\n",
    "            word_counts[word] = 1\n",
    "        else:\n",
    "            word_counts[word] += 1\n",
    "print(\"Size of Vocabulary:\", len(word_counts.keys()))\n",
    "\n",
    "\n",
    "# Load GloVe's embeddings\n",
    "embeddings_index = {}\n",
    "with open('glove.twitter.27B.200d.txt', encoding='utf-8') as f:\n",
    "    for line in f:\n",
    "        values = line.split(' ')\n",
    "        word = values[0]\n",
    "        embedding = np.asarray(values[1:], dtype='float32')\n",
    "        embeddings_index[word] = embedding\n",
    "\n",
    "print('Word embeddings:', len(embeddings_index))\n",
    "\n",
    "\n",
    "# Create an 'average' embedding for each tweet\n",
    "\n",
    "embedding_dim = 200 # Use 200 to match GloVe's embedding size\n",
    "\n",
    "embed_tweets = [] # Contains the 'average' embedding for each tweet\n",
    "total_embeds = 0 \n",
    "null_embeds = 0 \n",
    "\n",
    "for tweet in clean_tweets:\n",
    "    avg_embed = np.zeros(embedding_dim) # Set default embedding for each tweet\n",
    "    for word in tweet.split():\n",
    "        total_embeds += 1\n",
    "        embed = embeddings_index.get(word)\n",
    "        if embed is not None:\n",
    "            avg_embed += embed # Add embedding's values to vectors\n",
    "        else:\n",
    "            null_embeds += 1\n",
    "    embed_tweets.append(avg_embed/len(tweet.split()))\n",
    "\n",
    "print(\"Total Number of Embeddings:\", total_embeds)\n",
    "print(\"Number of Null Embeddings:\", null_embeds)\n",
    "print(\"% of Embeddings that are Null: {}%\".format(round(null_embeds/total_embeds,4)*100))"
   ]
  },
  {
   "cell_type": "code",
   "execution_count": 0,
   "metadata": {
    "colab": {
     "autoexec": {
      "startup": false,
      "wait_interval": 0
     }
    },
    "colab_type": "code",
    "collapsed": true,
    "id": "pX0U9DdKbQ8C"
   },
   "outputs": [],
   "source": [
    "def clean_tweet(tweet):\n",
    "    '''Remove unwanted characters and format the text to create fewer nulls word embeddings'''\n",
    "    tweet = tweet.lower()\n",
    "    tweet = re.sub(r'https?:\\/\\/.*[\\r\\n]*', '', tweet, flags=re.MULTILINE)\n",
    "    tweet = re.sub(r'[_\"\\-;%()|.,+&=*%]', '', tweet)\n",
    "    tweet = re.sub(r'\\.', ' . ', tweet)\n",
    "    tweet = re.sub(r'\\!', ' !', tweet)\n",
    "    tweet = re.sub(r'\\?', ' ?', tweet)\n",
    "    tweet = re.sub(r'\\,', ' ,', tweet)\n",
    "    tweet = re.sub(r':', ' : ', tweet)\n",
    "    tweet = re.sub(r'#', ' # ', tweet)\n",
    "    tweet = re.sub(r'@', ' @ ', tweet)\n",
    "    tweet = re.sub(r'd .c .', 'd.c.', tweet)\n",
    "    tweet = re.sub(r'u .s .', 'd.c.', tweet)\n",
    "    tweet = re.sub(r' amp ', ' and ', tweet)\n",
    "    tweet = re.sub(r'pm', ' pm ', tweet)\n",
    "    tweet = re.sub(r'news', ' news ', tweet)\n",
    "    tweet = re.sub(r' . . . ', ' ', tweet)\n",
    "    tweet = re.sub(r' .  .  . ', ' ', tweet)\n",
    "    tweet = re.sub(r' ! ! ', ' ! ', tweet)\n",
    "    tweet = re.sub(r'&amp', 'and', tweet)\n",
    "    return tweet"
   ]
  },
  {
   "cell_type": "code",
   "execution_count": 0,
   "metadata": {
    "colab": {
     "autoexec": {
      "startup": false,
      "wait_interval": 0
     }
    },
    "colab_type": "code",
    "collapsed": true,
    "id": "v7r1LKA0bQ8E"
   },
   "outputs": [],
   "source": [
    "# Clean the tweets and append those with a length > 0 to the clean_tweets list\n",
    "clean_tweets = []\n",
    "for tweet in tweets:\n",
    "    tweet = clean_tweet(tweet)\n",
    "    if len(tweet) > 0:\n",
    "        clean_tweets.append(tweet)"
   ]
  },
  {
   "cell_type": "code",
   "execution_count": 0,
   "metadata": {
    "colab": {
     "autoexec": {
      "startup": false,
      "wait_interval": 0
     }
    },
    "colab_type": "code",
    "id": "8YIgKeO3bQ8G",
    "outputId": "3d876799-a9e1-4319-9fa0-8fbe081a3714"
   },
   "outputs": [
    {
     "name": "stdout",
     "output_type": "stream",
     "text": [
      "five of our incredible  @ cabinet secretaries are testifying on the hill this morning on the need to rebuild our nation’s crumbling infrastructure we need to build fast and we need to build for our future thank you  @ senatecommerce for hosting this hearing !  # infrastructureinamerica\n",
      "\n",
      "perhaps at no time in history have the business fundamentals of us companies been better than they are today !\n",
      "\n",
      "hundreds of good people including very important ambassadors and judges are being blocked and/or slow walked by the democrats in the senate many important positions in government are unfilled because of this obstruction worst in us history !\n",
      "\n",
      "all across this nation we pray for our country and we thank god for our united states marines ! thank you god bless you and god bless america ! \n",
      "\n",
      "it was my great honor to deliver a message at the marine corps air station miramar to our great us military straight from the heart of the american people :  we support you we thank you we love you  and we will always have your back ! \n",
      "\n",
      "it was my great honor to deliver a message at the marine core air station miramar to our great us military straight from the heart of the american people :  we support you we thank you we love you  and we will always have your back ! \n",
      "\n",
      "if we don’t have a wall system we’re not going to have a country congress must fund the border wall and prohibit grants to sanctuary jurisdictions that threaten the security of our country and the people of our country we must enforce our laws and protect our people !  # buildthewall \n",
      "\n",
      "california’s sanctuary policies are illegal and unconstitutional and put the safety and security of our entire nation at risk thousands of dangerous and violent criminal aliens are released as a result of sanctuary policies set free to prey on innocent americans this must stop !\n",
      "\n",
      "“according to the center for immigration studies the $18 billion wall will pay for itself by curbing the importation of crime drugs and illegal immigrants who tend to go on the federal dole” \n",
      "\n",
      "heading to see the border wall prototypes in california ! \n",
      "\n"
     ]
    }
   ],
   "source": [
    "# Check to ensure the tweets have been clean properly\n",
    "x = 0\n",
    "for i in range(x,x+10):\n",
    "    print(clean_tweets[i])  \n",
    "    print()"
   ]
  },
  {
   "cell_type": "code",
   "execution_count": 0,
   "metadata": {
    "colab": {
     "autoexec": {
      "startup": false,
      "wait_interval": 0
     }
    },
    "colab_type": "code",
    "id": "mrxocPEtbQ8J",
    "outputId": "e31be44f-956b-44e3-ed4a-13b7e867f8a6"
   },
   "outputs": [
    {
     "name": "stdout",
     "output_type": "stream",
     "text": [
      "Size of Vocabulary: 15314\n"
     ]
    }
   ],
   "source": [
    "# Count the total number of occurences of each word\n",
    "word_counts = {}\n",
    "for tweet in clean_tweets:\n",
    "    for word in tweet.split():\n",
    "        if word not in word_counts:\n",
    "            word_counts[word] = 1\n",
    "        else:\n",
    "            word_counts[word] += 1\n",
    "print(\"Size of Vocabulary:\", len(word_counts.keys()))"
   ]
  },
  {
   "cell_type": "code",
   "execution_count": 0,
   "metadata": {
    "colab": {
     "autoexec": {
      "startup": false,
      "wait_interval": 0
     }
    },
    "colab_type": "code",
    "id": "hOEPxa0EbQ8M",
    "outputId": "f36f7b4f-4bb2-4a0c-fb62-b19719b6991b"
   },
   "outputs": [
    {
     "name": "stdout",
     "output_type": "stream",
     "text": [
      "Word embeddings: 1193514\n"
     ]
    }
   ],
   "source": [
    "# Load GloVe's embeddings\n",
    "embeddings_index = {}\n",
    "with open('glove.twitter.27B.200d.txt', encoding='utf-8') as f:\n",
    "    for line in f:\n",
    "        values = line.split(' ')\n",
    "        word = values[0]\n",
    "        embedding = np.asarray(values[1:], dtype='float32')\n",
    "        embeddings_index[word] = embedding\n",
    "\n",
    "print('Word embeddings:', len(embeddings_index))"
   ]
  },
  {
   "cell_type": "code",
   "execution_count": 0,
   "metadata": {
    "colab": {
     "autoexec": {
      "startup": false,
      "wait_interval": 0
     }
    },
    "colab_type": "code",
    "id": "E-rhnNdxbQ8P",
    "outputId": "b5f8bb72-a121-4ee7-a5c1-c154a5118e62"
   },
   "outputs": [
    {
     "name": "stdout",
     "output_type": "stream",
     "text": [
      "Total Number of Embeddings: 202786\n",
      "Number of Null Embeddings: 16406\n",
      "% of Embeddings that are Null: 8.09%\n"
     ]
    }
   ],
   "source": [
    "# Create an 'average' embedding for each tweet\n",
    "\n",
    "embedding_dim = 200 # Use 200 to match GloVe's embedding size\n",
    "\n",
    "embed_tweets = [] # Contains the 'average' embedding for each tweet\n",
    "total_embeds = 0 \n",
    "null_embeds = 0 \n",
    "\n",
    "for tweet in clean_tweets:\n",
    "    avg_embed = np.zeros(embedding_dim) # Set default embedding for each tweet\n",
    "    for word in tweet.split():\n",
    "        total_embeds += 1\n",
    "        embed = embeddings_index.get(word)\n",
    "        if embed is not None:\n",
    "            avg_embed += embed # Add embedding's values to vectors\n",
    "        else:\n",
    "            null_embeds += 1\n",
    "    embed_tweets.append(avg_embed/len(tweet.split()))\n",
    "\n",
    "print(\"Total Number of Embeddings:\", total_embeds)\n",
    "print(\"Number of Null Embeddings:\", null_embeds)\n",
    "print(\"% of Embeddings that are Null: {}%\".format(round(null_embeds/total_embeds,4)*100))"
   ]
  },
  {
   "cell_type": "code",
   "execution_count": 0,
   "metadata": {
    "colab": {
     "autoexec": {
      "startup": false,
      "wait_interval": 0
     }
    },
    "colab_type": "code",
    "collapsed": true,
    "id": "JPrFwXzEbQ8R"
   },
   "outputs": [],
   "source": [
    "# Reduce the dimensions of each tweet to 1\n",
    "pca = PCA(n_components=1, random_state = 2)\n",
    "pca_tweets = pca.fit_transform(embed_tweets)"
   ]
  },
  {
   "cell_type": "code",
   "execution_count": 0,
   "metadata": {
    "colab": {
     "autoexec": {
      "startup": false,
      "wait_interval": 0
     }
    },
    "colab_type": "code",
    "collapsed": true,
    "id": "808J5ztrbQ8T"
   },
   "outputs": [],
   "source": [
    "# Order the tweets based on their PCA values, from low to high\n",
    "# Similar tweets will be closer together\n",
    "pca_tweets_list = [] # Contains the pca values\n",
    "for tweet in pca_tweets:\n",
    "    pca_tweets_list.append(tweet[0])\n",
    "\n",
    "order = np.array(pca_tweets_list).argsort()\n",
    "pca_labels = order.argsort()\n",
    "pca_labels *= 2 # Multiple the labels by 2 so generated tweets can have odd values and \n",
    "                # Even values will represent tweets that were used for training"
   ]
  },
  {
   "cell_type": "code",
   "execution_count": 0,
   "metadata": {
    "colab": {
     "autoexec": {
      "startup": false,
      "wait_interval": 0
     }
    },
    "colab_type": "code",
    "id": "CI0HuxwJbQ8V",
    "outputId": "10803689-5fa1-475d-e04c-c584cc40c4be"
   },
   "outputs": [
    {
     "data": {
      "text/plain": [
       "array([ 7540,   532,  4510,  2054,   712,   646,  5366,  6786,  8930,\n",
       "       10114], dtype=int64)"
      ]
     },
     "execution_count": 67,
     "metadata": {
      "tags": []
     },
     "output_type": "execute_result"
    }
   ],
   "source": [
    "# Inspect pca_labels\n",
    "pca_labels[:10]"
   ]
  },
  {
   "cell_type": "code",
   "execution_count": 0,
   "metadata": {
    "colab": {
     "autoexec": {
      "startup": false,
      "wait_interval": 0
     }
    },
    "colab_type": "code",
    "collapsed": true,
    "id": "fttbkj2kbQ8X"
   },
   "outputs": [],
   "source": [
    "# Group tweets by similarity\n",
    "kmeans = KMeans(n_clusters=4, max_iter = 1000, n_init = 20, random_state=2).fit(pca_tweets)\n",
    "labels = kmeans.labels_"
   ]
  },
  {
   "cell_type": "markdown",
   "metadata": {
    "colab_type": "text",
    "id": "QRoMk3vdbQ8Z"
   },
   "source": [
    "Note: After checking the results of using 3 - 10 clusters, I thought 4 clusters can best sort Trump's tweets into distinct groups."
   ]
  },
  {
   "cell_type": "code",
   "execution_count": 0,
   "metadata": {
    "colab": {
     "autoexec": {
      "startup": false,
      "wait_interval": 0
     }
    },
    "colab_type": "code",
    "id": "O9DrZaRQbQ8Z",
    "outputId": "d718f0c0-d74a-4ef1-ae53-9bfdf98ce68c"
   },
   "outputs": [
    {
     "data": {
      "text/plain": [
       "1    4069\n",
       "3    3418\n",
       "0    2097\n",
       "2     414\n",
       "Name: 0, dtype: int64"
      ]
     },
     "execution_count": 69,
     "metadata": {
      "tags": []
     },
     "output_type": "execute_result"
    }
   ],
   "source": [
    "# The number of tweets in each group.\n",
    "pd.DataFrame(labels)[0].value_counts()"
   ]
  },
  {
   "cell_type": "code",
   "execution_count": 0,
   "metadata": {
    "colab": {
     "autoexec": {
      "startup": false,
      "wait_interval": 0
     }
    },
    "colab_type": "code",
    "collapsed": true,
    "id": "BvZuzCtLbQ8c"
   },
   "outputs": [],
   "source": [
    "# Words to not include when finding the most common words in each group\n",
    "stop_words = ['be','on','!','at','.',':','...','@',',','#','will','.m','in','a','the','with','to','by','and','my','is',\n",
    "              'of','for','new','via','are','that','has','have','all','as','it','so','they','do','he','just','this',\n",
    "              'was','who','your','from','his','about','get','but','am','up','if','can','would','than','should','dont',\n",
    "              'had','or','were','did','there','got','even','its','an']"
   ]
  },
  {
   "cell_type": "code",
   "execution_count": 0,
   "metadata": {
    "colab": {
     "autoexec": {
      "startup": false,
      "wait_interval": 0
     }
    },
    "colab_type": "code",
    "collapsed": true,
    "id": "kd5H4KMQbQ8d"
   },
   "outputs": [],
   "source": [
    "def top_n_words(group, n_words):\n",
    "    '''Find the n most common words in each group'''\n",
    "    vocab = {} # Create the vocabulary for each group\n",
    "    for i in range(len(clean_tweets)):\n",
    "        if labels[i] == group:\n",
    "            for word in clean_tweets[i].split():\n",
    "                if word not in vocab:\n",
    "                    vocab[word] = 1\n",
    "                else:\n",
    "                    vocab[word] += 1\n",
    "      \n",
    "    # Sort the vocab from most to least common words\n",
    "    sorted_vocab = sorted(vocab.items(), key=operator.itemgetter(1), reverse=True)\n",
    "    top_n_words = []\n",
    "    for word, value in sorted_vocab:\n",
    "        if word not in stop_words:\n",
    "            top_n_words.append(word)\n",
    "        if len(top_n_words) == n_words:\n",
    "            break\n",
    "    print(top_n_words)"
   ]
  },
  {
   "cell_type": "code",
   "execution_count": 0,
   "metadata": {
    "colab": {
     "autoexec": {
      "startup": false,
      "wait_interval": 0
     }
    },
    "colab_type": "code",
    "id": "zBnBJ0yIbQ8e",
    "outputId": "6a71e77f-a5c5-49e6-dac1-dac3e02a633e"
   },
   "outputs": [
    {
     "name": "stdout",
     "output_type": "stream",
     "text": [
      "Group # 1\n",
      "['realdonaldtrump', 'trump', 'you', 'thank', 'trump2016', '?', 'rt', 'news', 'makeamericagreatagain', 'great']\n",
      "Group # 2\n",
      "['i', 'great', 'you', 'we', 'our', 'not', 'people', 'me', 'very', 'america']\n",
      "Group # 3\n",
      "['makeamericagreatagain', 'trump2016', 'realdonaldtrump', 'trump', '?', 'rt', 'you', 'thank', 'poll', 'cnn']\n",
      "Group # 4\n",
      "['you', 'i', 'realdonaldtrump', 'trump', 'great', 'thank', 'we', '?', 'news', 'our']\n"
     ]
    }
   ],
   "source": [
    "# The most common words in each group\n",
    "groups = len(np.unique(labels))\n",
    "for i in range(groups):\n",
    "    print(\"Group #\",i+1)\n",
    "    top_n_words(i, 10)"
   ]
  },
  {
   "cell_type": "code",
   "execution_count": 0,
   "metadata": {
    "colab": {
     "autoexec": {
      "startup": false,
      "wait_interval": 0
     }
    },
    "colab_type": "code",
    "id": "Mr8-rI6NbQ8g",
    "outputId": "2fa1e101-525b-464f-cc84-3c6f9fe470a2"
   },
   "outputs": [
    {
     "name": "stdout",
     "output_type": "stream",
     "text": [
      "Trump's 100 most popular tweeted words (not including stop words):\n",
      "['i', 'you', 'great', 'realdonaldtrump', 'trump', 'we', 'our', 'thank', '?', 'news', 'not', 'me', 'people', 'america', 'hillary', 'very', 'rt', 'trump2016', 'us', 'out', 'no', 'make', 'again', 'now', 'president', 'makeamericagreatagain', 'big', 'more', 'fox', 'country', 'today', 'time', 'clinton', 'what', 'many', 'vote', 'like', 'their', 'donald', 'cnn', 'pm', 'one', 'going', 'never', 'poll', 'been', 'back', 'much', 'media', 'only', 'jobs', 'want', 'she', 'crooked', 'good', 'american', 'last', 'why', 'when', 'her', 'tonight', 'bad', 'said', 'win', 'fake', 'debate', 'join', 'obama', 'must', 'them', 'how', 'job', 'tax', 'cruz', 'need', 'see', 'years', 'campaign', 'support', 'after', 'night', 'day', 'him', 'go', 'love', 'down', \"don't\", 'being', 'really', 'first', 'watch', 'election', 'over', 'way', 'foxandfriends', 'tomorrow', 'made', 'doing', 'democrats', 'against']\n"
     ]
    }
   ],
   "source": [
    "# The most common words for all of Trump's tweets\n",
    "n_words = 100\n",
    "sorted_vocab = sorted(word_counts.items(), key=operator.itemgetter(1), reverse=True)\n",
    "top_n_words = []\n",
    "for word, value in sorted_vocab:\n",
    "    if word not in stop_words:\n",
    "        top_n_words.append(word)\n",
    "    if len(top_n_words) == n_words:\n",
    "        break\n",
    "print(\"Trump's {} most popular tweeted words (not including stop words):\".format(n_words))\n",
    "print(top_n_words)"
   ]
  },
  {
   "cell_type": "code",
   "execution_count": 0,
   "metadata": {
    "colab": {
     "autoexec": {
      "startup": false,
      "wait_interval": 0
     }
    },
    "colab_type": "code",
    "collapsed": true,
    "id": "2bnuHU6ObQ8i"
   },
   "outputs": [],
   "source": [
    "def print_tweet_group(group, n_tweets):\n",
    "    '''Prints the first n_tweets in a group'''\n",
    "    count = 1\n",
    "    for i in range(len(clean_tweets)):\n",
    "        if labels[i] == group:\n",
    "            print(\"#{}: {}\".format(count, clean_tweets[i]))\n",
    "            count += 1\n",
    "            if count == n_tweets+1:\n",
    "                break"
   ]
  },
  {
   "cell_type": "code",
   "execution_count": 0,
   "metadata": {
    "colab": {
     "autoexec": {
      "startup": false,
      "wait_interval": 0
     }
    },
    "colab_type": "code",
    "id": "Ji4eXfAGbQ8j",
    "outputId": "188df6d3-9b15-4144-b2d5-03a7c36be8c0"
   },
   "outputs": [
    {
     "name": "stdout",
     "output_type": "stream",
     "text": [
      "Group # 1\n",
      "#1: join me live in moon township pennsylvania at 7 : 00 pm e great crowd for a  # maga rally !\n",
      "#2: jobs jobs jobs !  # maga \n",
      "#3: “presidential proclamation on adjusting imports of aluminum into the united states”  proclamation :  \n",
      "#4: “presidential proclamation on adjusting imports of steel into the united states” proclamation :  \n",
      "#5: great meeting with  @ cabinet at the  @ whitehouse today !  # maga \n",
      "\n",
      "Group # 2\n",
      "#1: five of our incredible  @ cabinet secretaries are testifying on the hill this morning on the need to rebuild our nation’s crumbling infrastructure we need to build fast and we need to build for our future thank you  @ senatecommerce for hosting this hearing !  # infrastructureinamerica\n",
      "#2: perhaps at no time in history have the business fundamentals of us companies been better than they are today !\n",
      "#3: hundreds of good people including very important ambassadors and judges are being blocked and/or slow walked by the democrats in the senate many important positions in government are unfilled because of this obstruction worst in us history !\n",
      "#4: all across this nation we pray for our country and we thank god for our united states marines ! thank you god bless you and god bless america ! \n",
      "#5: it was my great honor to deliver a message at the marine corps air station miramar to our great us military straight from the heart of the american people :  we support you we thank you we love you  and we will always have your back ! \n",
      "\n",
      "Group # 3\n",
      "#1: rt  @ vollrathtammie realdonaldtrump  @ fox news  \n",
      "#2: “president donald j trump proclaims january 16 2018 as religious freedom day” \n",
      "#3: rt  @ paulsperry :  \n",
      "#4: rt  @ erictrump throwbackthursdays  @ realdonaldtrump  ? ? ? \n",
      "#5: rt  @ erictrump journalismisdead  \n",
      "\n",
      "Group # 4\n",
      "#1: “according to the center for immigration studies the $18 billion wall will pay for itself by curbing the importation of crime drugs and illegal immigrants who tend to go on the federal dole” \n",
      "#2: heading to see the border wall prototypes in california ! \n",
      "#3: the house intelligence committee has after a 14 month long indepth investigation found no evidence of collusion or coordination between the trump campaign and russia to influence the 2016 presidential election\n",
      "#4: it was my great honor to welcome the 2017 world series champion houston  @ astros to the  @ whitehouse !  # houstonstrong \n",
      "#5: very strong improvement and strengthening of background checks will be fully backed by white house legislation moving forward bump stocks will soon be out highly trained expert teachers will be allowed to conceal carry subject to state law armed guards ok deterrent !\n",
      "\n"
     ]
    }
   ],
   "source": [
    "# Print the first few tweets in each group\n",
    "n_tweets = 5\n",
    "for i in range(groups):\n",
    "    print(\"Group #\",i+1)\n",
    "    print_tweet_group(i,n_tweets)\n",
    "    print()"
   ]
  },
  {
   "cell_type": "markdown",
   "metadata": {
    "colab_type": "text",
    "id": "jpemJGHFbQ8m"
   },
   "source": [
    "The four groups look like they can be categorized as:\n",
    "1. Short with many # or @\n",
    "2. Retweets with long texts\n",
    "3. Relating to data/time/location\n",
    "4. Longer tweets written by Trump"
   ]
  },
  {
   "cell_type": "code",
   "execution_count": 0,
   "metadata": {
    "colab": {
     "autoexec": {
      "startup": false,
      "wait_interval": 0
     }
    },
    "colab_type": "code",
    "collapsed": true,
    "id": "NKPkLHuAbQ8o"
   },
   "outputs": [],
   "source": [
    "# Visualize the tweets with TSNE\n",
    "model = TSNE(n_components=2, random_state=2)\n",
    "TSNE_tweets = model.fit_transform(embed_tweets)"
   ]
  },
  {
   "cell_type": "code",
   "execution_count": 0,
   "metadata": {
    "colab": {
     "autoexec": {
      "startup": false,
      "wait_interval": 0
     }
    },
    "colab_type": "code",
    "id": "EDJ7YJZnbQ8p",
    "outputId": "0d0fe63e-c0f6-49c8-ae12-e67758e3e1be"
   },
   "outputs": [
    {
     "data": {
      "image/png": "[encoded data removed]",
      "text/plain": [
       "<Figure size 864x360 with 1 Axes>"
      ]
     },
     "metadata": {
      "tags": []
     },
     "output_type": "display_data"
    }
   ],
   "source": [
    "# Build a scatter plot to visualize the tweets.\n",
    "color_map = {0:'red', 1:'orange', 2:'yellow', 3:'blue'}\n",
    "plt.figure(figsize=(12,5))\n",
    "\n",
    "for i in range(len(TSNE_tweets)):\n",
    "    plt.scatter(x = TSNE_tweets[i][0], \n",
    "                y = TSNE_tweets[i][1],\n",
    "                c = color_map[labels[i]])\n",
    "plt.xlabel('X in t-SNE')\n",
    "plt.ylabel('Y in t-SNE')\n",
    "plt.title('Trump\\'s Tweet Types')\n",
    "\n",
    "offset = 2\n",
    "x_min = min(TSNE_tweets, key=itemgetter(0))[0] - offset\n",
    "x_max = max(TSNE_tweets, key=itemgetter(0))[0] + offset\n",
    "y_min = min(TSNE_tweets, key=itemgetter(1))[1] - offset\n",
    "y_max = max(TSNE_tweets, key=itemgetter(1))[1] + offset\n",
    "\n",
    "axes = plt.gca()\n",
    "axes.set_xlim([x_min,x_max])\n",
    "axes.set_ylim([y_min,y_max])\n",
    "plt.show()"
   ]
  },
  {
   "cell_type": "code",
   "execution_count": 0,
   "metadata": {
    "colab": {
     "autoexec": {
      "startup": false,
      "wait_interval": 0
     }
    },
    "colab_type": "code",
    "id": "TA5Q1fTHbQ8s",
    "outputId": "74956cc6-b487-417e-baa0-ebf662673fc5"
   },
   "outputs": [
    {
     "data": {
      "image/png": "[encoded data removed]",
      "text/plain": [
       "<Figure size 864x216 with 1 Axes>"
      ]
     },
     "metadata": {
      "tags": []
     },
     "output_type": "display_data"
    }
   ],
   "source": [
    "# Create a scatterplot to visualize the tweet groups by the PCA labels\n",
    "plt.figure(figsize=(12,3))\n",
    "for i in range(len(TSNE_tweets)):\n",
    "    plt.scatter(x = pca_labels[i], \n",
    "                y = labels[i]+1,\n",
    "                c = color_map[labels[i]])\n",
    "    \n",
    "plt.xlabel('PCA Label')\n",
    "plt.ylabel('Tweet Group')\n",
    "plt.title('PCA Labels vs Tweet Group')\n",
    "    \n",
    "plt.show()"
   ]
  },
  {
   "cell_type": "markdown",
   "metadata": {
    "colab_type": "text",
    "id": "3-QyBXNgbQ8v"
   },
   "source": [
    "There's a little bit of overlap between the PCA labels and tweet groups at the extremes, otherwise, it's really nice to see the tweets organized as well as they are."
   ]
  },
  {
   "cell_type": "code",
   "execution_count": 0,
   "metadata": {
    "colab": {
     "autoexec": {
      "startup": false,
      "wait_interval": 0
     }
    },
    "colab_type": "code",
    "id": "4lhr5N24bQ8v",
    "outputId": "af5e1457-5f24-47ce-c53c-7c41f9f20f0d"
   },
   "outputs": [
    {
     "name": "stdout",
     "output_type": "stream",
     "text": [
      "Total Number of Unique Words: 15314\n",
      "Number of Words we will use: 15318\n",
      "Percent of Words we will use: 100.03%\n"
     ]
    }
   ],
   "source": [
    "# Limit the vocab that we will use to words that appear ≥ threshold \n",
    "\n",
    "threshold = 1\n",
    "\n",
    "#dictionary to convert words to integers\n",
    "vocab_to_int = {} \n",
    "\n",
    "value = 0\n",
    "for word, count in word_counts.items():\n",
    "    if count >= threshold:\n",
    "        vocab_to_int[word] = value\n",
    "        value += 1\n",
    "\n",
    "# Special tokens that will be added to our vocab\n",
    "codes = [\"<UNK>\",\"<GO>\",\"<PAD>\",\"<EOS>\"]   \n",
    "\n",
    "for code in codes:\n",
    "    vocab_to_int[code] = len(vocab_to_int)+1\n",
    "\n",
    "# Dictionary to convert integers to words\n",
    "int_to_vocab = {}\n",
    "for word, value in vocab_to_int.items():\n",
    "    int_to_vocab[value] = word\n",
    "\n",
    "word_ratio = round(len(vocab_to_int) / len(word_counts),4)*100\n",
    "\n",
    "print(\"Total Number of Unique Words:\", len(word_counts))\n",
    "print(\"Number of Words we will use:\", len(vocab_to_int))\n",
    "print(\"Percent of Words we will use: {}%\".format(word_ratio))\n"
   ]
  },
  {
   "cell_type": "markdown",
   "metadata": {
    "colab_type": "text",
    "id": "1cKRYyqObQ8y"
   },
   "source": [
    "Note: We could use more words, but that would make it more difficult to train the model. I think it would be better to use fewer words and make very similar tweets than use more words that look less like Trump's tweets."
   ]
  },
  {
   "cell_type": "code",
   "execution_count": 0,
   "metadata": {
    "colab": {
     "autoexec": {
      "startup": false,
      "wait_interval": 0
     }
    },
    "colab_type": "code",
    "collapsed": true,
    "id": "9D9KYidubQ8y"
   },
   "outputs": [],
   "source": [
    "# Change the tweets from words to integers\n",
    "# If word is not in vocab, replace it with <UNK> (unknown)\n",
    "int_tweets = []\n",
    "\n",
    "for tweet in clean_tweets:\n",
    "    int_tweet = []\n",
    "    for word in tweet.split():\n",
    "        if word in vocab_to_int:\n",
    "            int_tweet.append(vocab_to_int[word])\n",
    "        else:\n",
    "            int_tweet.append(vocab_to_int[\"<UNK>\"])\n",
    "    int_tweets.append(int_tweet)"
   ]
  },
  {
   "cell_type": "code",
   "execution_count": 0,
   "metadata": {
    "colab": {
     "autoexec": {
      "startup": false,
      "wait_interval": 0
     }
    },
    "colab_type": "code",
    "collapsed": true,
    "id": "oK_CKyDcbQ80"
   },
   "outputs": [],
   "source": [
    "# Find the length of tweets\n",
    "lengths = []\n",
    "for tweet in int_tweets:\n",
    "    lengths.append(len(tweet))\n",
    "\n",
    "# Create a dataframe so that the values can be inspected\n",
    "lengths = pd.DataFrame(lengths, columns=['counts'])"
   ]
  },
  {
   "cell_type": "code",
   "execution_count": 0,
   "metadata": {
    "colab": {
     "autoexec": {
      "startup": false,
      "wait_interval": 0
     }
    },
    "colab_type": "code",
    "id": "gtoQ0AqGbQ82",
    "outputId": "6951ebd5-bce3-4003-9497-1f1576787b8d"
   },
   "outputs": [
    {
     "data": {
      "text/html": [
       "<div>\n",
       "<style scoped>\n",
       "    .dataframe tbody tr th:only-of-type {\n",
       "        vertical-align: middle;\n",
       "    }\n",
       "\n",
       "    .dataframe tbody tr th {\n",
       "        vertical-align: top;\n",
       "    }\n",
       "\n",
       "    .dataframe thead th {\n",
       "        text-align: right;\n",
       "    }\n",
       "</style>\n",
       "<table border=\"1\" class=\"dataframe\">\n",
       "  <thead>\n",
       "    <tr style=\"text-align: right;\">\n",
       "      <th></th>\n",
       "      <th>counts</th>\n",
       "    </tr>\n",
       "  </thead>\n",
       "  <tbody>\n",
       "    <tr>\n",
       "      <th>count</th>\n",
       "      <td>9998.000000</td>\n",
       "    </tr>\n",
       "    <tr>\n",
       "      <th>mean</th>\n",
       "      <td>20.282657</td>\n",
       "    </tr>\n",
       "    <tr>\n",
       "      <th>std</th>\n",
       "      <td>8.230385</td>\n",
       "    </tr>\n",
       "    <tr>\n",
       "      <th>min</th>\n",
       "      <td>1.000000</td>\n",
       "    </tr>\n",
       "    <tr>\n",
       "      <th>25%</th>\n",
       "      <td>15.000000</td>\n",
       "    </tr>\n",
       "    <tr>\n",
       "      <th>50%</th>\n",
       "      <td>21.000000</td>\n",
       "    </tr>\n",
       "    <tr>\n",
       "      <th>75%</th>\n",
       "      <td>25.000000</td>\n",
       "    </tr>\n",
       "    <tr>\n",
       "      <th>max</th>\n",
       "      <td>56.000000</td>\n",
       "    </tr>\n",
       "  </tbody>\n",
       "</table>\n",
       "</div>"
      ],
      "text/plain": [
       "            counts\n",
       "count  9998.000000\n",
       "mean     20.282657\n",
       "std       8.230385\n",
       "min       1.000000\n",
       "25%      15.000000\n",
       "50%      21.000000\n",
       "75%      25.000000\n",
       "max      56.000000"
      ]
     },
     "execution_count": 101,
     "metadata": {
      "tags": []
     },
     "output_type": "execute_result"
    }
   ],
   "source": [
    "lengths.describe()"
   ]
  },
  {
   "cell_type": "code",
   "execution_count": 0,
   "metadata": {
    "colab": {
     "autoexec": {
      "startup": false,
      "wait_interval": 0
     }
    },
    "colab_type": "code",
    "id": "_DXCSUYwbQ85",
    "outputId": "10f0a0a9-ffd2-4cfe-a7dc-100afe9ccd5e"
   },
   "outputs": [
    {
     "name": "stdout",
     "output_type": "stream",
     "text": [
      "Total Number of Tweets: 9998\n",
      "Number of Tweets we will use: 9953\n",
      "Percent of Tweets we will use: 99.55000000000001%\n"
     ]
    }
   ],
   "source": [
    "# Keep only the tweets that are between the min and max lengths and ≤ the <UNK> limit\n",
    "\n",
    "max_tweet_length = 50\n",
    "min_tweet_length = 1\n",
    "unk_limit = 1\n",
    "\n",
    "short_tweets = []\n",
    "short_labels = []\n",
    "\n",
    "for i in range(len(int_tweets)):\n",
    "    unk_count = 0\n",
    "    if len(int_tweets[i]) <= max_tweet_length and len(int_tweets[i]) >= min_tweet_length:\n",
    "        if len(int_tweets[i]) == 1:\n",
    "            if int_tweets[i][0] != vocab_to_int['<UNK>']:\n",
    "                short_tweets.append(int_tweets[i])\n",
    "                short_labels.append(pca_labels[i])\n",
    "        else:\n",
    "            for word in int_tweets[i]:\n",
    "                if word == vocab_to_int['<UNK>']:\n",
    "                    unk_count += 1\n",
    "            if unk_count <= unk_limit:\n",
    "                short_tweets.append(int_tweets[i])\n",
    "                short_labels.append(pca_labels[i])\n",
    "        \n",
    "\n",
    "usage_precent = round(len(short_tweets)/len(clean_tweets),4)*100\n",
    "        \n",
    "print(\"Total Number of Tweets:\", len(clean_tweets))\n",
    "print(\"Number of Tweets we will use:\", len(short_tweets))\n",
    "print(\"Percent of Tweets we will use: {}%\".format(usage_precent))"
   ]
  },
  {
   "cell_type": "code",
   "execution_count": 0,
   "metadata": {
    "colab": {
     "autoexec": {
      "startup": false,
      "wait_interval": 0
     }
    },
    "colab_type": "code",
    "id": "VUgQzZAIbQ89",
    "outputId": "625e065e-ca47-4354-c0bc-698f9725f1bd"
   },
   "outputs": [
    {
     "name": "stdout",
     "output_type": "stream",
     "text": [
      "9953\n",
      "9953\n"
     ]
    }
   ],
   "source": [
    "# Sort tweets by length to train faster and reduce padding.\n",
    "sorted_tweets = []\n",
    "sorted_labels = []\n",
    "\n",
    "for length in range(1,max_tweet_length+1):\n",
    "    for i in range(len(short_tweets)):\n",
    "        if length == len(short_tweets[i]):\n",
    "            sorted_tweets.append(short_tweets[i])\n",
    "            sorted_labels.append([short_labels[i]])\n",
    "            \n",
    "print(len(sorted_tweets))\n",
    "print(len(sorted_labels))"
   ]
  },
  {
   "cell_type": "code",
   "execution_count": 0,
   "metadata": {
    "colab": {
     "autoexec": {
      "startup": false,
      "wait_interval": 0
     }
    },
    "colab_type": "code",
    "id": "DmGNhWezbQ9B",
    "outputId": "facde2b3-0465-4027-8ebe-38f6c81fc8b1"
   },
   "outputs": [
    {
     "name": "stdout",
     "output_type": "stream",
     "text": [
      "Total Number of Words: 200419\n",
      "Number of uses of <UNK>: 0\n",
      "Percent of words that are <UNK>: 0.0%\n"
     ]
    }
   ],
   "source": [
    "# Find the number/ratio of words that are <UNK>\n",
    "n_words = 0\n",
    "unk_words = 0\n",
    "for tweet in sorted_tweets:\n",
    "    for int in tweet:\n",
    "        n_words += 1\n",
    "        if int == vocab_to_int[\"<UNK>\"]:\n",
    "            unk_words += 1\n",
    "            \n",
    "unk_ratio = round(unk_words/n_words,4)*100\n",
    "            \n",
    "print(\"Total Number of Words:\", n_words)\n",
    "print(\"Number of uses of <UNK>:\", unk_words)\n",
    "print(\"Percent of words that are <UNK>: {}%\".format(unk_ratio))"
   ]
  },
  {
   "cell_type": "markdown",
   "metadata": {
    "colab_type": "text",
    "id": "saTRQvkwbQ9F"
   },
   "source": [
    "Note: I wanted to limit the number of times UNK is used in the training data, which is why the UNK limit is set to just one."
   ]
  },
  {
   "cell_type": "markdown",
   "metadata": {
    "colab_type": "text",
    "id": "7sGpU7kNbQ9G"
   },
   "source": [
    "## Build and Train the Model"
   ]
  },
  {
   "cell_type": "code",
   "execution_count": 0,
   "metadata": {
    "colab": {
     "autoexec": {
      "startup": false,
      "wait_interval": 0
     }
    },
    "colab_type": "code",
    "collapsed": true,
    "id": "xge8ykkUbQ9H"
   },
   "outputs": [],
   "source": [
    "def model_inputs():\n",
    "    '''Create palceholders for inputs to the model'''\n",
    "    input_data = tf.placeholder(tf.int32, [None, None], name='input')\n",
    "    targets = tf.placeholder(tf.int32, [None, None], name='targets')\n",
    "    lr = tf.placeholder(tf.float32, name='learning_rate')\n",
    "    keep_prob = tf.placeholder(tf.float32, name='keep_prob')\n",
    "\n",
    "    return input_data, targets, lr, keep_prob"
   ]
  },
  {
   "cell_type": "code",
   "execution_count": 0,
   "metadata": {
    "colab": {
     "autoexec": {
      "startup": false,
      "wait_interval": 0
     }
    },
    "colab_type": "code",
    "collapsed": true,
    "id": "xQyuf-XvbQ9I"
   },
   "outputs": [],
   "source": [
    "def process_encoding_input(target_data, vocab_to_int, batch_size):\n",
    "    '''Remove the last id from each batch and concat the <GO> to the begining of each batch'''\n",
    "    ending = tf.strided_slice(target_data, [0, 0], [batch_size, -1], [1, 1])\n",
    "    dec_input = tf.concat([tf.fill([batch_size, 1], vocab_to_int['<GO>']), ending], 1)\n",
    "\n",
    "    return dec_input"
   ]
  },
  {
   "cell_type": "code",
   "execution_count": 0,
   "metadata": {
    "colab": {
     "autoexec": {
      "startup": false,
      "wait_interval": 0
     }
    },
    "colab_type": "code",
    "collapsed": true,
    "id": "IdWab5-ibQ9J"
   },
   "outputs": [],
   "source": [
    "\n",
    "def lstm_cell(rnn_size):\n",
    "    return tf.contrib.rnn.BasicLSTMCell(rnn_size)\n",
    "def stack_lstm(num_layers):\n",
    "    stacked_lstm = tf.contrib.rnn.MultiRNNCell([lstm_cell(rnn_size) for _ in range(num_layers)])\n",
    "    return stacked_lstm"
   ]
  },
  {
   "cell_type": "code",
   "execution_count": 0,
   "metadata": {
    "colab": {
     "autoexec": {
      "startup": false,
      "wait_interval": 0
     }
    },
    "colab_type": "code",
    "collapsed": true,
    "id": "fN_7vSgYbQ9K"
   },
   "outputs": [],
   "source": [
    "def encoding_layer(rnn_inputs, rnn_size, num_layers, keep_prob, sequence_length):\n",
    "    '''Create the encoding layer'''\n",
    "    lstm = lstm_cell(rnn_size)\n",
    "    enc_cell = stack_lstm(num_layers)\n",
    "    _, enc_state = tf.nn.dynamic_rnn(enc_cell,\n",
    "                                     rnn_inputs, \n",
    "                                     sequence_length,\n",
    "                                     dtype=tf.float32)\n",
    "    return enc_state"
   ]
  },
  {
   "cell_type": "code",
   "execution_count": 0,
   "metadata": {
    "colab": {
     "autoexec": {
      "startup": false,
      "wait_interval": 0
     }
    },
    "colab_type": "code",
    "collapsed": true,
    "id": "NPQ9otMmbQ9L"
   },
   "outputs": [],
   "source": [
    "def decoding_layer_train(encoder_state, dec_cell, dec_embed_input, sequence_length, decoding_scope,\n",
    "                         output_fn, keep_prob, batch_size):\n",
    "    '''Decode the training data'''\n",
    "    train_decoder_fn = tf.contrib.seq2seq.simple_decoder_fn_train(encoder_state)\n",
    "    train_pred, _, _ = tf.contrib.seq2seq.dynamic_rnn_decoder(\n",
    "        dec_cell, train_decoder_fn, dec_embed_input, sequence_length, scope=decoding_scope)\n",
    "    train_pred_drop = tf.nn.dropout(train_pred, keep_prob)\n",
    "    return output_fn(train_pred_drop)    "
   ]
  },
  {
   "cell_type": "code",
   "execution_count": 0,
   "metadata": {
    "colab": {
     "autoexec": {
      "startup": false,
      "wait_interval": 0
     }
    },
    "colab_type": "code",
    "collapsed": true,
    "id": "HoWxPHiobQ9N"
   },
   "outputs": [],
   "source": [
    "def decoding_layer_infer(encoder_state, dec_cell, dec_embeddings, start_of_sequence_id, end_of_sequence_id,\n",
    "                         maximum_length, vocab_size, decoding_scope, output_fn):\n",
    "    '''Decode the prediction data'''\n",
    "    infer_decoder_fn = tf.contrib.seq2seq.simple_decoder_fn_inference(\n",
    "        output_fn, encoder_state, dec_embeddings, start_of_sequence_id, end_of_sequence_id, maximum_length, vocab_size)\n",
    "    infer_logits, _, _ = tf.contrib.seq2seq.dynamic_rnn_decoder(\n",
    "        dec_cell, infer_decoder_fn, scope=decoding_scope)\n",
    "    return infer_logits"
   ]
  },
  {
   "cell_type": "code",
   "execution_count": 0,
   "metadata": {
    "colab": {
     "autoexec": {
      "startup": false,
      "wait_interval": 0
     }
    },
    "colab_type": "code",
    "collapsed": true,
    "id": "dv8iv2VUbQ9O"
   },
   "outputs": [],
   "source": [
    "def decoding_layer(dec_embed_input, dec_embeddings, encoder_state, vocab_size, sequence_length, rnn_size,\n",
    "                   num_layers, vocab_to_int, keep_prob, batch_size):\n",
    "    '''Create the decoding cell and input the parameters for the training and inference decoding layers'''\n",
    "    with tf.variable_scope(\"decoding\") as decoding_scope:\n",
    "        lstm = lstm_cell(rnn_size)\n",
    "    \n",
    "        drop = tf.contrib.rnn.DropoutWrapper(lstm, input_keep_prob = keep_prob)\n",
    "        dec_cell = stack_lstm(num_layers)\n",
    "        \n",
    "        weights = tf.truncated_normal_initializer(mean = 0.0, stddev=0.1)\n",
    "        biases = tf.zeros_initializer()\n",
    "        output_fn = lambda x: tf.contrib.layers.fully_connected(x, \n",
    "                                                                vocab_size, \n",
    "                                                                None, \n",
    "                                                                scope=decoding_scope,\n",
    "                                                                weights_initializer = weights,\n",
    "                                                                biases_initializer = biases)\n",
    "\n",
    "        train_logits = decoding_layer_train(encoder_state, \n",
    "                                            dec_cell, \n",
    "                                            dec_embed_input, \n",
    "                                            sequence_length, \n",
    "                                            decoding_scope, \n",
    "                                            output_fn, \n",
    "                                            keep_prob, \n",
    "                                            batch_size)\n",
    "        decoding_scope.reuse_variables()\n",
    "        infer_logits = decoding_layer_infer(encoder_state, \n",
    "                                            dec_cell, \n",
    "                                            dec_embeddings, \n",
    "                                            vocab_to_int['<GO>'],\n",
    "                                            vocab_to_int['<EOS>'], \n",
    "                                            sequence_length - 1, \n",
    "                                            vocab_size,\n",
    "                                            decoding_scope, \n",
    "                                            output_fn)\n",
    "\n",
    "    return train_logits, infer_logits"
   ]
  },
  {
   "cell_type": "code",
   "execution_count": 0,
   "metadata": {
    "colab": {
     "autoexec": {
      "startup": false,
      "wait_interval": 0
     }
    },
    "colab_type": "code",
    "collapsed": true,
    "id": "jlPPFiwWbQ9P"
   },
   "outputs": [],
   "source": [
    "def one2seq_model(input_data, target_data, keep_prob, batch_size, sequence_length, vocab_size, \n",
    "                  embedding_size, rnn_size, num_layers, vocab_to_int):\n",
    "    '''Use the previous functions to create the training and inference logits'''\n",
    "    enc_embed_input = tf.contrib.layers.embed_sequence(input_data, \n",
    "                                                       max(short_labels)+1, \n",
    "                                                       embedding_size,\n",
    "                                                       initializer = tf.random_uniform_initializer(-1,1))\n",
    "    enc_state = encoding_layer(enc_embed_input, rnn_size, num_layers, keep_prob, sequence_length)\n",
    "\n",
    "    dec_input = process_encoding_input(target_data, vocab_to_int, batch_size)\n",
    "    dec_embeddings = tf.Variable(tf.random_uniform([vocab_size+1, embedding_size], -1, 1))\n",
    "\n",
    "    dec_embed_input = tf.nn.embedding_lookup(dec_embeddings, \n",
    "                                             dec_input)\n",
    "    \n",
    "    train_logits, infer_logits = decoding_layer(dec_embed_input, \n",
    "                                                dec_embeddings, \n",
    "                                                enc_state, \n",
    "                                                vocab_size, \n",
    "                                                sequence_length, \n",
    "                                                rnn_size, \n",
    "                                                num_layers, \n",
    "                                                vocab_to_int, \n",
    "                                                keep_prob, \n",
    "                                                batch_size)\n",
    "    return train_logits, infer_logits"
   ]
  },
  {
   "cell_type": "code",
   "execution_count": 0,
   "metadata": {
    "colab": {
     "autoexec": {
      "startup": false,
      "wait_interval": 0
     }
    },
    "colab_type": "code",
    "collapsed": true,
    "id": "OUHDxUVUbQ9P"
   },
   "outputs": [],
   "source": [
    "def pad_tweets_batch(tweets_batch):\n",
    "    \"\"\"Pad tweets with <PAD> so that each tweet of a batch has the same length\"\"\"\n",
    "    max_tweet = max([len(tweet) for tweet in tweets_batch])\n",
    "    return [tweet + [vocab_to_int['<PAD>']] * (max_tweet - len(tweet)) for tweet in tweets_batch]"
   ]
  },
  {
   "cell_type": "code",
   "execution_count": 0,
   "metadata": {
    "colab": {
     "autoexec": {
      "startup": false,
      "wait_interval": 0
     }
    },
    "colab_type": "code",
    "collapsed": true,
    "id": "XYYNHzxpbQ9Q"
   },
   "outputs": [],
   "source": [
    "def get_batches(labels, tweets, batch_size):\n",
    "    \"\"\"Batch labels and tweets together\"\"\"\n",
    "    for batch_i in range(0, len(labels)//batch_size):\n",
    "        start_i = batch_i * batch_size\n",
    "        labels_batch = np.array(labels[start_i:start_i + batch_size])\n",
    "        tweets_batch = tweets[start_i:start_i + batch_size]\n",
    "        padded_tweets_batch = np.array(pad_tweets_batch(tweets_batch))\n",
    "        yield labels_batch, padded_tweets_batch"
   ]
  },
  {
   "cell_type": "code",
   "execution_count": 0,
   "metadata": {
    "colab": {
     "autoexec": {
      "startup": false,
      "wait_interval": 0
     }
    },
    "colab_type": "code",
    "collapsed": true,
    "id": "rh7u61YVbQ9R"
   },
   "outputs": [],
   "source": [
    "# Set the Hyperparameters\n",
    "epochs = 100\n",
    "batch_size = 32\n",
    "rnn_size = 512\n",
    "num_layers = 2\n",
    "embedding_size = 200\n",
    "learning_rate = 0.005\n",
    "keep_probability = 0.5"
   ]
  },
  {
   "cell_type": "code",
   "execution_count": 0,
   "metadata": {
    "colab": {
     "autoexec": {
      "startup": false,
      "wait_interval": 0
     }
    },
    "colab_type": "code",
    "id": "Zl3dkRBlbQ9R",
    "outputId": "fdb7e9a7-eae4-41e9-ae6e-70e0cd609dfe"
   },
   "outputs": [
    {
     "ename": "AttributeError",
     "evalue": "module 'tensorflow.contrib.seq2seq' has no attribute 'simple_decoder_fn_train'",
     "output_type": "error",
     "traceback": [
      "\u001b[1;31m---------------------------------------------------------------------------\u001b[0m",
      "\u001b[1;31mAttributeError\u001b[0m                            Traceback (most recent call last)",
      "\u001b[1;32m<ipython-input-133-091e8c486286>\u001b[0m in \u001b[0;36m<module>\u001b[1;34m()\u001b[0m\n\u001b[0;32m     21\u001b[0m                                                    \u001b[0mrnn_size\u001b[0m\u001b[1;33m,\u001b[0m\u001b[1;33m\u001b[0m\u001b[0m\n\u001b[0;32m     22\u001b[0m                                                    \u001b[0mnum_layers\u001b[0m\u001b[1;33m,\u001b[0m\u001b[1;33m\u001b[0m\u001b[0m\n\u001b[1;32m---> 23\u001b[1;33m                                                    vocab_to_int)\n\u001b[0m\u001b[0;32m     24\u001b[0m \u001b[1;33m\u001b[0m\u001b[0m\n\u001b[0;32m     25\u001b[0m     \u001b[1;31m# Create a tensor for the inference logits, needed to load a checkpoint version of the model\u001b[0m\u001b[1;33m\u001b[0m\u001b[1;33m\u001b[0m\u001b[0m\n",
      "\u001b[1;32m<ipython-input-129-bf33b70de13b>\u001b[0m in \u001b[0;36mone2seq_model\u001b[1;34m(input_data, target_data, keep_prob, batch_size, sequence_length, vocab_size, embedding_size, rnn_size, num_layers, vocab_to_int)\u001b[0m\n\u001b[0;32m     23\u001b[0m                                                 \u001b[0mvocab_to_int\u001b[0m\u001b[1;33m,\u001b[0m\u001b[1;33m\u001b[0m\u001b[0m\n\u001b[0;32m     24\u001b[0m                                                 \u001b[0mkeep_prob\u001b[0m\u001b[1;33m,\u001b[0m\u001b[1;33m\u001b[0m\u001b[0m\n\u001b[1;32m---> 25\u001b[1;33m                                                 batch_size)\n\u001b[0m\u001b[0;32m     26\u001b[0m     \u001b[1;32mreturn\u001b[0m \u001b[0mtrain_logits\u001b[0m\u001b[1;33m,\u001b[0m \u001b[0minfer_logits\u001b[0m\u001b[1;33m\u001b[0m\u001b[0m\n",
      "\u001b[1;32m<ipython-input-128-bdfca360122d>\u001b[0m in \u001b[0;36mdecoding_layer\u001b[1;34m(dec_embed_input, dec_embeddings, encoder_state, vocab_size, sequence_length, rnn_size, num_layers, vocab_to_int, keep_prob, batch_size)\u001b[0m\n\u001b[0;32m     24\u001b[0m                                             \u001b[0moutput_fn\u001b[0m\u001b[1;33m,\u001b[0m\u001b[1;33m\u001b[0m\u001b[0m\n\u001b[0;32m     25\u001b[0m                                             \u001b[0mkeep_prob\u001b[0m\u001b[1;33m,\u001b[0m\u001b[1;33m\u001b[0m\u001b[0m\n\u001b[1;32m---> 26\u001b[1;33m                                             batch_size)\n\u001b[0m\u001b[0;32m     27\u001b[0m         \u001b[0mdecoding_scope\u001b[0m\u001b[1;33m.\u001b[0m\u001b[0mreuse_variables\u001b[0m\u001b[1;33m(\u001b[0m\u001b[1;33m)\u001b[0m\u001b[1;33m\u001b[0m\u001b[0m\n\u001b[0;32m     28\u001b[0m         infer_logits = decoding_layer_infer(encoder_state, \n",
      "\u001b[1;32m<ipython-input-126-de53b40d7343>\u001b[0m in \u001b[0;36mdecoding_layer_train\u001b[1;34m(encoder_state, dec_cell, dec_embed_input, sequence_length, decoding_scope, output_fn, keep_prob, batch_size)\u001b[0m\n\u001b[0;32m      2\u001b[0m                          output_fn, keep_prob, batch_size):\n\u001b[0;32m      3\u001b[0m     \u001b[1;34m'''Decode the training data'''\u001b[0m\u001b[1;33m\u001b[0m\u001b[0m\n\u001b[1;32m----> 4\u001b[1;33m     \u001b[0mtrain_decoder_fn\u001b[0m \u001b[1;33m=\u001b[0m \u001b[0mtf\u001b[0m\u001b[1;33m.\u001b[0m\u001b[0mcontrib\u001b[0m\u001b[1;33m.\u001b[0m\u001b[0mseq2seq\u001b[0m\u001b[1;33m.\u001b[0m\u001b[0msimple_decoder_fn_train\u001b[0m\u001b[1;33m(\u001b[0m\u001b[0mencoder_state\u001b[0m\u001b[1;33m)\u001b[0m\u001b[1;33m\u001b[0m\u001b[0m\n\u001b[0m\u001b[0;32m      5\u001b[0m     train_pred, _, _ = tf.contrib.seq2seq.dynamic_rnn_decoder(\n\u001b[0;32m      6\u001b[0m         dec_cell, train_decoder_fn, dec_embed_input, sequence_length, scope=decoding_scope)\n",
      "\u001b[1;31mAttributeError\u001b[0m: module 'tensorflow.contrib.seq2seq' has no attribute 'simple_decoder_fn_train'"
     ]
    }
   ],
   "source": [
    "# Build the graph\n",
    "train_graph = tf.Graph()\n",
    "# Set the graph to default to ensure that it is ready for training\n",
    "with train_graph.as_default():\n",
    "    \n",
    "    # Load the model inputs    \n",
    "    input_data, targets, lr, keep_prob = model_inputs()\n",
    "    # Sequence length will be the max tweet length for each batch\n",
    "    sequence_length = tf.placeholder_with_default(max_tweet_length, None, name='sequence_length')\n",
    "    # Find the shape of the input data for sequence_loss\n",
    "    input_shape = tf.shape(input_data)\n",
    "\n",
    "    # Create the training and inference logits\n",
    "    train_logits, inference_logits = one2seq_model(input_data, \n",
    "                                                   targets, \n",
    "                                                   keep_prob, \n",
    "                                                   batch_size, \n",
    "                                                   sequence_length, \n",
    "                                                   len(vocab_to_int), \n",
    "                                                   embedding_size, \n",
    "                                                   rnn_size, \n",
    "                                                   num_layers, \n",
    "                                                   vocab_to_int)\n",
    "\n",
    "    # Create a tensor for the inference logits, needed to load a checkpoint version of the model\n",
    "    tf.identity(inference_logits, 'logits')\n",
    "\n",
    "    with tf.name_scope(\"optimization\"):\n",
    "        # Loss function\n",
    "        cost = tf.contrib.seq2seq.sequence_loss(\n",
    "            train_logits,\n",
    "            targets,\n",
    "            tf.ones([input_shape[0], sequence_length]))\n",
    "\n",
    "        # Optimizer\n",
    "        optimizer = tf.train.AdamOptimizer(learning_rate)\n",
    "\n",
    "        # Gradient Clipping\n",
    "        gradients = optimizer.compute_gradients(cost)\n",
    "        capped_gradients = [(tf.clip_by_value(grad, -5., 5.), var) for grad, var in gradients if grad is not None]\n",
    "        train_op = optimizer.apply_gradients(capped_gradients)"
   ]
  },
  {
   "cell_type": "markdown",
   "metadata": {
    "colab_type": "text",
    "id": "hxcLSxT9bQ9U"
   },
   "source": [
    "Note: There is no validation data because it did not prove to be a good indicator for the quality of the generated tweets. "
   ]
  },
  {
   "cell_type": "code",
   "execution_count": 0,
   "metadata": {
    "colab": {
     "autoexec": {
      "startup": false,
      "wait_interval": 0
     }
    },
    "colab_type": "code",
    "collapsed": true,
    "id": "JwRFM_3WbQ9U"
   },
   "outputs": [],
   "source": [
    "# Train the Model\n",
    "learning_rate_decay = 0.9\n",
    "min_learning_rate = 0.0005\n",
    "display_step = 20 # Check training loss after every 20 batches\n",
    "stop_early = 0 \n",
    "stop = 3 # If the epoch loss does decrease in 3 consecutive epochs, stop training\n",
    "epoch_check = ((len(sorted_labels))//batch_size)-1 # Modulus for checking epoch loss\n",
    "epoch_loss = 0 \n",
    "batch_loss = 0\n",
    "summary_epoch_loss = [] # Record the epoch loss for saving improvements in the model\n",
    "\n",
    "checkpoint = \"best_model.ckpt\" \n",
    "\n",
    "with tf.Session(graph=train_graph) as sess:\n",
    "    sess.run(tf.global_variables_initializer())\n",
    "\n",
    "    for epoch_i in range(1, epochs+1):\n",
    "        epoch_loss = 0\n",
    "        batch_loss = 0\n",
    "        \n",
    "        for batch_i, (labels_batch, tweets_batch) in enumerate(\n",
    "                get_batches(sorted_labels, sorted_tweets, batch_size)):\n",
    "            start_time = time.time()\n",
    "            _, loss = sess.run(\n",
    "                [train_op, cost],\n",
    "                {input_data: labels_batch,\n",
    "                 targets: tweets_batch,\n",
    "                 lr: learning_rate,\n",
    "                 sequence_length: tweets_batch.shape[1],\n",
    "                 keep_prob: keep_probability})\n",
    "\n",
    "            batch_loss += loss\n",
    "            epoch_loss += loss\n",
    "            end_time = time.time()\n",
    "            batch_time = end_time - start_time\n",
    "\n",
    "            if batch_i % display_step == 0 and batch_i > 0:\n",
    "                print('Epoch {:>3}/{} Batch {:>4}/{} - Loss: {:>6.3f}, Seconds: {:>4.2f}'\n",
    "                      .format(epoch_i,\n",
    "                              epochs, \n",
    "                              batch_i, \n",
    "                              len(sorted_labels) // batch_size, \n",
    "                              batch_loss / display_step, \n",
    "                              batch_time*display_step))\n",
    "                batch_loss = 0\n",
    "\n",
    "            if batch_i % epoch_check == 0 and batch_i > 0:\n",
    "                print(\"Average loss for this epoch:\", round(epoch_loss/epoch_check,3))\n",
    "                summary_epoch_loss.append(epoch_loss)\n",
    "                \n",
    "                # If the epoch loss is at a new minimum, save the model\n",
    "                if epoch_loss <= min(summary_epoch_loss):\n",
    "                    print('New Record!') \n",
    "                    stop_early = 0\n",
    "                    saver = tf.train.Saver() \n",
    "                    saver.save(sess, checkpoint)\n",
    "\n",
    "                else:\n",
    "                    print(\"No Improvement.\")\n",
    "                    stop_early += 1\n",
    "                    if stop_early == stop:\n",
    "                        break\n",
    "                    \n",
    "        # Reduce learning rate, but not below its minimum value\n",
    "        learning_rate *= learning_rate_decay\n",
    "        if learning_rate < min_learning_rate:\n",
    "            learning_rate = min_learning_rate\n",
    "        \n",
    "        if stop_early == stop:\n",
    "            print(\"Stopping Training.\")\n",
    "            break"
   ]
  },
  {
   "cell_type": "markdown",
   "metadata": {
    "colab_type": "text",
    "id": "zImwfz5vbQ9V"
   },
   "source": [
    "## Generate New Tweets"
   ]
  },
  {
   "cell_type": "code",
   "execution_count": 0,
   "metadata": {
    "colab": {
     "autoexec": {
      "startup": false,
      "wait_interval": 0
     }
    },
    "colab_type": "code",
    "collapsed": true,
    "id": "z3LwlzeJbQ9W"
   },
   "outputs": [],
   "source": [
    "def vectorize_tweet(tweet):\n",
    "    '''Just like for the training data, this creates the average embedding for the inputted tweet'''\n",
    "    vect_tweet = []\n",
    "    vectors = np.zeros(embedding_dim)\n",
    "    for word in tweet.split():\n",
    "        vector = embeddings_index.get(word)\n",
    "        if vector is not None:\n",
    "            vectors += vector\n",
    "    return vectors/len(tweet.split())"
   ]
  },
  {
   "cell_type": "markdown",
   "metadata": {
    "colab_type": "text",
    "id": "7nf5U5oJbQ9b"
   },
   "source": [
    "As the reminder, the 4 tweet groups had the ranges:\n",
    "1. 14,400 - 14,736\n",
    "  - ex. # makeamericagreatagain  # 6days \n",
    "2. 5,500 - 11,000 \n",
    "  - ex. rt  @ donaldjtrumpjr :  final push ! eric and i doing dozens of radio interviews we can win this thing ! get out and vote !  # maga  # electionday\n",
    "3. 11,000 - 14,400 \n",
    "  - ex. watching the returns at 9 : 45 pm # electionnight  # maga \n",
    "4. 0 - 5,500\n",
    "  - ex. busy day planned in new york will soon be making some very important decisions on the people who will be running our government !"
   ]
  },
  {
   "cell_type": "code",
   "execution_count": 0,
   "metadata": {
    "colab": {
     "autoexec": {
      "startup": false,
      "wait_interval": 0
     }
    },
    "colab_type": "code",
    "id": "gFCIYRLEbQ9c",
    "outputId": "6d64703f-ccd8-4a85-9446-dca86bbfccf4"
   },
   "outputs": [
    {
     "name": "stdout",
     "output_type": "stream",
     "text": [
      "Tweet\n",
      "  Word Ids:      [1247, 908, 809, 881, 224, 1334, 224, 719]\n",
      "  Tweet: thank you arizona ! # makeamericagreatagain # trump2016\n"
     ]
    }
   ],
   "source": [
    "# Select type of tweet\n",
    "tweet_type = 14501\n",
    "\n",
    "checkpoint = \"./\" + checkpoint\n",
    "\n",
    "loaded_graph = tf.Graph()\n",
    "with tf.Session(graph=loaded_graph) as sess:\n",
    "    # Load saved model\n",
    "    loader = tf.train.import_meta_graph(checkpoint + '.meta')\n",
    "    loader.restore(sess, checkpoint)\n",
    "\n",
    "    input_data = loaded_graph.get_tensor_by_name('input:0')\n",
    "    logits = loaded_graph.get_tensor_by_name('logits:0')\n",
    "    sequence_length = loaded_graph.get_tensor_by_name('sequence_length:0')\n",
    "    keep_prob = loaded_graph.get_tensor_by_name('keep_prob:0')\n",
    "\n",
    "    tweet_logits = sess.run(logits, {input_data: [[tweet_type]], \n",
    "                                     sequence_length: np.random.randint(3,15),\n",
    "                                     keep_prob: 1.0})[0] \n",
    "\n",
    "# Remove the padding from the tweet\n",
    "pad = vocab_to_int[\"<PAD>\"]\n",
    "\n",
    "print('Tweet')\n",
    "print('  Word Ids:      {}'.format([i for i in np.argmax(tweet_logits, 1) if i != pad]))\n",
    "print('  Tweet: {}'.format(\" \".join([int_to_vocab[i] for i in np.argmax(tweet_logits, 1) if i != pad])))"
   ]
  },
  {
   "cell_type": "code",
   "execution_count": 0,
   "metadata": {
    "colab": {
     "autoexec": {
      "startup": false,
      "wait_interval": 0
     }
    },
    "colab_type": "code",
    "collapsed": true,
    "id": "KKqk8rrxbQ9d"
   },
   "outputs": [],
   "source": []
  }
 ],
 "metadata": {
  "colab": {
   "default_view": {},
   "name": "Creating_Tweets-version1.ipynb",
   "provenance": [],
   "version": "0.3.2",
   "views": {}
  },
  "kernelspec": {
   "display_name": "Python 3",
   "language": "python",
   "name": "python3"
  },
  "language_info": {
   "codemirror_mode": {
    "name": "ipython",
    "version": 3
   },
   "file_extension": ".py",
   "mimetype": "text/x-python",
   "name": "python",
   "nbconvert_exporter": "python",
   "pygments_lexer": "ipython3",
   "version": "3.6.0"
  }
 },
 "nbformat": 4,
 "nbformat_minor": 1
}
